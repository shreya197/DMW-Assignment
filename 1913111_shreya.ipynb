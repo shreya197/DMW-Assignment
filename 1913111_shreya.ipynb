{
  "nbformat": 4,
  "nbformat_minor": 0,
  "metadata": {
    "colab": {
      "provenance": [],
      "authorship_tag": "ABX9TyNGjiq4AbRTjBaaPq/MGykP",
      "include_colab_link": true
    },
    "kernelspec": {
      "name": "python3",
      "display_name": "Python 3"
    },
    "language_info": {
      "name": "python"
    }
  },
  "cells": [
    {
      "cell_type": "markdown",
      "metadata": {
        "id": "view-in-github",
        "colab_type": "text"
      },
      "source": [
        "<a href=\"https://colab.research.google.com/github/shreya197/DMW-Assignment/blob/main/1913111_shreya.ipynb\" target=\"_parent\"><img src=\"https://colab.research.google.com/assets/colab-badge.svg\" alt=\"Open In Colab\"/></a>"
      ]
    },
    {
      "cell_type": "code",
      "execution_count": 143,
      "metadata": {
        "id": "b8RgKKUcbZ5a"
      },
      "outputs": [],
      "source": [
        "import pandas as pd\n",
        "import numpy as np\n",
        "from itertools import combinations\n"
      ]
    },
    {
      "cell_type": "code",
      "source": [
        "df = pd.read_csv(\"/test1.csv\")"
      ],
      "metadata": {
        "id": "QsiYzKZRbhul"
      },
      "execution_count": 144,
      "outputs": []
    },
    {
      "cell_type": "code",
      "source": [
        "df.head()\n"
      ],
      "metadata": {
        "colab": {
          "base_uri": "https://localhost:8080/",
          "height": 206
        },
        "id": "3-vazm07g6df",
        "outputId": "028e0919-be50-4713-a8c4-0bda4a5f8161"
      },
      "execution_count": 145,
      "outputs": [
        {
          "output_type": "execute_result",
          "data": {
            "text/plain": [
              "  handphone laptop charger powerbank tablet\n",
              "0         t      t     NaN       NaN    NaN\n",
              "1         t      t       t       NaN    NaN\n",
              "2         t      t       t         t    NaN\n",
              "3         t      t     NaN       NaN      t\n",
              "4         t    NaN       t       NaN      t"
            ],
            "text/html": [
              "\n",
              "  <div id=\"df-440cc6df-c933-44b3-9367-618bba8c6aeb\">\n",
              "    <div class=\"colab-df-container\">\n",
              "      <div>\n",
              "<style scoped>\n",
              "    .dataframe tbody tr th:only-of-type {\n",
              "        vertical-align: middle;\n",
              "    }\n",
              "\n",
              "    .dataframe tbody tr th {\n",
              "        vertical-align: top;\n",
              "    }\n",
              "\n",
              "    .dataframe thead th {\n",
              "        text-align: right;\n",
              "    }\n",
              "</style>\n",
              "<table border=\"1\" class=\"dataframe\">\n",
              "  <thead>\n",
              "    <tr style=\"text-align: right;\">\n",
              "      <th></th>\n",
              "      <th>handphone</th>\n",
              "      <th>laptop</th>\n",
              "      <th>charger</th>\n",
              "      <th>powerbank</th>\n",
              "      <th>tablet</th>\n",
              "    </tr>\n",
              "  </thead>\n",
              "  <tbody>\n",
              "    <tr>\n",
              "      <th>0</th>\n",
              "      <td>t</td>\n",
              "      <td>t</td>\n",
              "      <td>NaN</td>\n",
              "      <td>NaN</td>\n",
              "      <td>NaN</td>\n",
              "    </tr>\n",
              "    <tr>\n",
              "      <th>1</th>\n",
              "      <td>t</td>\n",
              "      <td>t</td>\n",
              "      <td>t</td>\n",
              "      <td>NaN</td>\n",
              "      <td>NaN</td>\n",
              "    </tr>\n",
              "    <tr>\n",
              "      <th>2</th>\n",
              "      <td>t</td>\n",
              "      <td>t</td>\n",
              "      <td>t</td>\n",
              "      <td>t</td>\n",
              "      <td>NaN</td>\n",
              "    </tr>\n",
              "    <tr>\n",
              "      <th>3</th>\n",
              "      <td>t</td>\n",
              "      <td>t</td>\n",
              "      <td>NaN</td>\n",
              "      <td>NaN</td>\n",
              "      <td>t</td>\n",
              "    </tr>\n",
              "    <tr>\n",
              "      <th>4</th>\n",
              "      <td>t</td>\n",
              "      <td>NaN</td>\n",
              "      <td>t</td>\n",
              "      <td>NaN</td>\n",
              "      <td>t</td>\n",
              "    </tr>\n",
              "  </tbody>\n",
              "</table>\n",
              "</div>\n",
              "      <button class=\"colab-df-convert\" onclick=\"convertToInteractive('df-440cc6df-c933-44b3-9367-618bba8c6aeb')\"\n",
              "              title=\"Convert this dataframe to an interactive table.\"\n",
              "              style=\"display:none;\">\n",
              "        \n",
              "  <svg xmlns=\"http://www.w3.org/2000/svg\" height=\"24px\"viewBox=\"0 0 24 24\"\n",
              "       width=\"24px\">\n",
              "    <path d=\"M0 0h24v24H0V0z\" fill=\"none\"/>\n",
              "    <path d=\"M18.56 5.44l.94 2.06.94-2.06 2.06-.94-2.06-.94-.94-2.06-.94 2.06-2.06.94zm-11 1L8.5 8.5l.94-2.06 2.06-.94-2.06-.94L8.5 2.5l-.94 2.06-2.06.94zm10 10l.94 2.06.94-2.06 2.06-.94-2.06-.94-.94-2.06-.94 2.06-2.06.94z\"/><path d=\"M17.41 7.96l-1.37-1.37c-.4-.4-.92-.59-1.43-.59-.52 0-1.04.2-1.43.59L10.3 9.45l-7.72 7.72c-.78.78-.78 2.05 0 2.83L4 21.41c.39.39.9.59 1.41.59.51 0 1.02-.2 1.41-.59l7.78-7.78 2.81-2.81c.8-.78.8-2.07 0-2.86zM5.41 20L4 18.59l7.72-7.72 1.47 1.35L5.41 20z\"/>\n",
              "  </svg>\n",
              "      </button>\n",
              "      \n",
              "  <style>\n",
              "    .colab-df-container {\n",
              "      display:flex;\n",
              "      flex-wrap:wrap;\n",
              "      gap: 12px;\n",
              "    }\n",
              "\n",
              "    .colab-df-convert {\n",
              "      background-color: #E8F0FE;\n",
              "      border: none;\n",
              "      border-radius: 50%;\n",
              "      cursor: pointer;\n",
              "      display: none;\n",
              "      fill: #1967D2;\n",
              "      height: 32px;\n",
              "      padding: 0 0 0 0;\n",
              "      width: 32px;\n",
              "    }\n",
              "\n",
              "    .colab-df-convert:hover {\n",
              "      background-color: #E2EBFA;\n",
              "      box-shadow: 0px 1px 2px rgba(60, 64, 67, 0.3), 0px 1px 3px 1px rgba(60, 64, 67, 0.15);\n",
              "      fill: #174EA6;\n",
              "    }\n",
              "\n",
              "    [theme=dark] .colab-df-convert {\n",
              "      background-color: #3B4455;\n",
              "      fill: #D2E3FC;\n",
              "    }\n",
              "\n",
              "    [theme=dark] .colab-df-convert:hover {\n",
              "      background-color: #434B5C;\n",
              "      box-shadow: 0px 1px 3px 1px rgba(0, 0, 0, 0.15);\n",
              "      filter: drop-shadow(0px 1px 2px rgba(0, 0, 0, 0.3));\n",
              "      fill: #FFFFFF;\n",
              "    }\n",
              "  </style>\n",
              "\n",
              "      <script>\n",
              "        const buttonEl =\n",
              "          document.querySelector('#df-440cc6df-c933-44b3-9367-618bba8c6aeb button.colab-df-convert');\n",
              "        buttonEl.style.display =\n",
              "          google.colab.kernel.accessAllowed ? 'block' : 'none';\n",
              "\n",
              "        async function convertToInteractive(key) {\n",
              "          const element = document.querySelector('#df-440cc6df-c933-44b3-9367-618bba8c6aeb');\n",
              "          const dataTable =\n",
              "            await google.colab.kernel.invokeFunction('convertToInteractive',\n",
              "                                                     [key], {});\n",
              "          if (!dataTable) return;\n",
              "\n",
              "          const docLinkHtml = 'Like what you see? Visit the ' +\n",
              "            '<a target=\"_blank\" href=https://colab.research.google.com/notebooks/data_table.ipynb>data table notebook</a>'\n",
              "            + ' to learn more about interactive tables.';\n",
              "          element.innerHTML = '';\n",
              "          dataTable['output_type'] = 'display_data';\n",
              "          await google.colab.output.renderOutput(dataTable, element);\n",
              "          const docLink = document.createElement('div');\n",
              "          docLink.innerHTML = docLinkHtml;\n",
              "          element.appendChild(docLink);\n",
              "        }\n",
              "      </script>\n",
              "    </div>\n",
              "  </div>\n",
              "  "
            ]
          },
          "metadata": {},
          "execution_count": 145
        }
      ]
    },
    {
      "cell_type": "code",
      "source": [
        "item_list = list(df.columns)\n",
        "item_dict = dict()\n",
        "\n",
        "for i, item in enumerate(item_list):\n",
        "    item_dict[item] = i + 1\n",
        "\n",
        "item_dict\n"
      ],
      "metadata": {
        "colab": {
          "base_uri": "https://localhost:8080/"
        },
        "id": "P39KdxwBg-Hy",
        "outputId": "bcce1968-e3da-47c8-94ba-dcb7d53531c1"
      },
      "execution_count": 146,
      "outputs": [
        {
          "output_type": "execute_result",
          "data": {
            "text/plain": [
              "{'handphone': 1, 'laptop': 2, 'charger': 3, 'powerbank': 4, 'tablet': 5}"
            ]
          },
          "metadata": {},
          "execution_count": 146
        }
      ]
    },
    {
      "cell_type": "code",
      "source": [
        "transactions = list()\n",
        "\n",
        "for i, row in df.iterrows():\n",
        "    transaction = set()\n",
        "    \n",
        "    for item in item_dict:\n",
        "        if row[item] == 't':\n",
        "            transaction.add(item_dict[item])\n",
        "    transactions.append(transaction)\n",
        "    \n",
        "transactions\n"
      ],
      "metadata": {
        "colab": {
          "base_uri": "https://localhost:8080/"
        },
        "id": "vYuk2QNghCCL",
        "outputId": "51362609-5ee3-4179-a01d-2a4be3a210d3"
      },
      "execution_count": 147,
      "outputs": [
        {
          "output_type": "execute_result",
          "data": {
            "text/plain": [
              "[{1, 2},\n",
              " {1, 2, 3},\n",
              " {1, 2, 3, 4},\n",
              " {1, 2, 5},\n",
              " {1, 3, 5},\n",
              " {4, 5},\n",
              " {1, 2, 3, 5},\n",
              " {1, 3},\n",
              " {1, 4},\n",
              " {2, 3, 4}]"
            ]
          },
          "metadata": {},
          "execution_count": 147
        }
      ]
    },
    {
      "cell_type": "code",
      "source": [
        "def get_support(transactions, item_set):\n",
        "    match_count = 0\n",
        "    for transaction in transactions:\n",
        "        if item_set.issubset(transaction):\n",
        "            match_count += 1\n",
        "            \n",
        "    return float(match_count/len(transactions))\n",
        "\n"
      ],
      "metadata": {
        "id": "aPmm4fenhFoH"
      },
      "execution_count": 148,
      "outputs": []
    },
    {
      "cell_type": "code",
      "source": [
        "def self_join(frequent_item_sets_per_level, level):\n",
        "    current_level_candidates = list()\n",
        "    last_level_items = frequent_item_sets_per_level[level - 1]\n",
        "    \n",
        "    if len(last_level_items) == 0:\n",
        "        return current_level_candidates\n",
        "    \n",
        "    for i in range(len(last_level_items)):\n",
        "        for j in range(i+1, len(last_level_items)):\n",
        "            itemset_i = last_level_items[i][0]\n",
        "            itemset_j = last_level_items[j][0]\n",
        "            union_set = itemset_i.union(itemset_j)\n",
        "            \n",
        "            if union_set not in current_level_candidates and len(union_set) == level:\n",
        "                current_level_candidates.append(union_set)\n",
        "                \n",
        "    return current_level_candidates\n"
      ],
      "metadata": {
        "id": "TtgfEym1h748"
      },
      "execution_count": 149,
      "outputs": []
    },
    {
      "cell_type": "code",
      "source": [
        "def get_single_drop_subsets(item_set):\n",
        "    single_drop_subsets = list()\n",
        "    for item in item_set:\n",
        "        temp = item_set.copy()\n",
        "        temp.remove(item)\n",
        "        single_drop_subsets.append(temp)\n",
        "        \n",
        "    return single_drop_subsets\n",
        "\n",
        "def is_valid_set(item_set, prev_level_sets):\n",
        "    single_drop_subsets = get_single_drop_subsets(item_set)\n",
        "    \n",
        "    for single_drop_set in single_drop_subsets:\n",
        "        if single_drop_set not in prev_level_sets:\n",
        "            return False\n",
        "    return True\n",
        "\n",
        "def pruning(frequent_item_sets_per_level, level, candidate_set):\n",
        "    post_pruning_set = list()\n",
        "    if len(candidate_set) == 0:\n",
        "        return post_pruning_set\n",
        "    \n",
        "    prev_level_sets = list()\n",
        "    for item_set, _ in frequent_item_sets_per_level[level - 1]:\n",
        "        prev_level_sets.append(item_set)\n",
        "        \n",
        "    for item_set in candidate_set:\n",
        "        if is_valid_set(item_set, prev_level_sets):\n",
        "            post_pruning_set.append(item_set)\n",
        "            \n",
        "    return post_pruning_set\n"
      ],
      "metadata": {
        "id": "8mMtsV4Bh9nq"
      },
      "execution_count": 150,
      "outputs": []
    },
    {
      "cell_type": "code",
      "source": [
        "from collections import defaultdict\n",
        "\n",
        "def apriori(min_support):\n",
        "    frequent_item_sets_per_level = defaultdict(list)\n",
        "    print(\"level : 1\", end = \" \")\n",
        "    \n",
        "    for item in range(1, len(item_list) + 1):\n",
        "        support = get_support(transactions, {item})\n",
        "        if support >= min_support:\n",
        "            frequent_item_sets_per_level[1].append(({item}, support))\n",
        "        \n",
        "    for level in range(2, len(item_list) + 1):\n",
        "        print(level, end = \" \")\n",
        "        current_level_candidates = self_join(frequent_item_sets_per_level, level)\n",
        "\n",
        "        post_pruning_candidates = pruning(frequent_item_sets_per_level, level, current_level_candidates)\n",
        "        if len(post_pruning_candidates) == 0:\n",
        "            break\n",
        "\n",
        "        for item_set in post_pruning_candidates:\n",
        "            support = get_support(transactions, item_set)\n",
        "            if support >= min_support:\n",
        "                frequent_item_sets_per_level[level].append((item_set, support))\n",
        "                \n",
        "    return frequent_item_sets_per_level\n"
      ],
      "metadata": {
        "id": "yXWO-QJViKdQ"
      },
      "execution_count": 151,
      "outputs": []
    },
    {
      "cell_type": "code",
      "source": [
        "min_support = 0.3\n",
        "frequent_item_sets_per_level = apriori(min_support)\n"
      ],
      "metadata": {
        "colab": {
          "base_uri": "https://localhost:8080/"
        },
        "id": "ns-lwPt_imC9",
        "outputId": "45d718bf-9005-4a64-842a-30659cc5fe6c"
      },
      "execution_count": 152,
      "outputs": [
        {
          "output_type": "stream",
          "name": "stdout",
          "text": [
            "level : 1 2 3 4 "
          ]
        }
      ]
    },
    {
      "cell_type": "code",
      "source": [
        "for level in frequent_item_sets_per_level:\n",
        "    print(len(frequent_item_sets_per_level[level]))\n"
      ],
      "metadata": {
        "colab": {
          "base_uri": "https://localhost:8080/"
        },
        "id": "gIGCXlRzioeb",
        "outputId": "7cda236e-3268-482d-f493-5db7e90b77c7"
      },
      "execution_count": 153,
      "outputs": [
        {
          "output_type": "stream",
          "name": "stdout",
          "text": [
            "5\n",
            "4\n",
            "1\n"
          ]
        }
      ]
    },
    {
      "cell_type": "code",
      "source": [
        "for level in frequent_item_sets_per_level:\n",
        "    print(frequent_item_sets_per_level[level])\n"
      ],
      "metadata": {
        "colab": {
          "base_uri": "https://localhost:8080/"
        },
        "id": "RdhumQlRiuiV",
        "outputId": "fca9fba7-4cb6-4ff5-afd9-7b2d01e0ae73"
      },
      "execution_count": 154,
      "outputs": [
        {
          "output_type": "stream",
          "name": "stdout",
          "text": [
            "[({1}, 0.8), ({2}, 0.6), ({3}, 0.6), ({4}, 0.4), ({5}, 0.4)]\n",
            "[({1, 2}, 0.5), ({1, 3}, 0.5), ({1, 5}, 0.3), ({2, 3}, 0.4)]\n",
            "[({1, 2, 3}, 0.3)]\n"
          ]
        }
      ]
    },
    {
      "cell_type": "code",
      "source": [
        "item_support_dict = dict()\n",
        "item_list = list()\n",
        "\n",
        "key_list = list(item_dict.keys())\n",
        "val_list = list(item_dict.values())\n",
        "\n",
        "for level in frequent_item_sets_per_level:\n",
        "    for set_support_pair in frequent_item_sets_per_level[level]:\n",
        "        for i in set_support_pair[0]:\n",
        "            item_list.append(key_list[val_list.index(i)])\n",
        "        item_support_dict[frozenset(item_list)] = set_support_pair[1]\n",
        "        item_list = list()"
      ],
      "metadata": {
        "id": "KDRnruI4fudn"
      },
      "execution_count": 155,
      "outputs": []
    },
    {
      "cell_type": "code",
      "source": [
        "item_support_dict"
      ],
      "metadata": {
        "colab": {
          "base_uri": "https://localhost:8080/"
        },
        "id": "445BE96pf6HX",
        "outputId": "1ccd5844-80d7-4a29-b200-2719c9a25586"
      },
      "execution_count": 156,
      "outputs": [
        {
          "output_type": "execute_result",
          "data": {
            "text/plain": [
              "{frozenset({'handphone'}): 0.8,\n",
              " frozenset({'laptop'}): 0.6,\n",
              " frozenset({'charger'}): 0.6,\n",
              " frozenset({'powerbank'}): 0.4,\n",
              " frozenset({'tablet'}): 0.4,\n",
              " frozenset({'handphone', 'laptop'}): 0.5,\n",
              " frozenset({'charger', 'handphone'}): 0.5,\n",
              " frozenset({'handphone', 'tablet'}): 0.3,\n",
              " frozenset({'charger', 'laptop'}): 0.4,\n",
              " frozenset({'charger', 'handphone', 'laptop'}): 0.3}"
            ]
          },
          "metadata": {},
          "execution_count": 156
        }
      ]
    },
    {
      "cell_type": "code",
      "source": [
        "def find_subset(item, item_length):\n",
        "    combs = []\n",
        "    for i in range(1, item_length + 1):\n",
        "        combs.append(list(combinations(item, i)))\n",
        "        \n",
        "    subsets = []\n",
        "    for comb in combs:\n",
        "        for elt in comb:\n",
        "            subsets.append(elt)\n",
        "            \n",
        "    return subsets"
      ],
      "metadata": {
        "id": "o5j2yKp9f_L2"
      },
      "execution_count": 157,
      "outputs": []
    },
    {
      "cell_type": "code",
      "source": [
        "def association_rules(min_confidence, support_dict):\n",
        "    rules = list()\n",
        "    for item, support in support_dict.items():\n",
        "        item_length = len(item)\n",
        "       \n",
        "        if item_length > 1:\n",
        "            subsets = find_subset(item, item_length)\n",
        "           \n",
        "            for A in subsets:\n",
        "                B = item.difference(A)\n",
        "               \n",
        "                if B:\n",
        "                    A = frozenset(A)\n",
        "                    \n",
        "                    AB = A | B\n",
        "                    \n",
        "                    confidence = support_dict[AB] / support_dict[A]\n",
        "                    if confidence >= min_confidence:\n",
        "                        rules.append((A, B, confidence))\n",
        "    \n",
        "    return rules"
      ],
      "metadata": {
        "id": "RjrNpOTOgLtR"
      },
      "execution_count": 158,
      "outputs": []
    },
    {
      "cell_type": "code",
      "source": [
        "association_rules = association_rules(min_confidence = 0.6, support_dict = item_support_dict)\n"
      ],
      "metadata": {
        "id": "FNsOSzxTgP8v"
      },
      "execution_count": 159,
      "outputs": []
    },
    {
      "cell_type": "code",
      "source": [
        "print(\"Number of rules: \", len(association_rules), \"\\n\")\n",
        "\n",
        "for rule in association_rules:\n",
        "    print('{0} -> {1} <confidence: {2}>'.format(set(rule[0]), set(rule[1]), rule[2]))\n"
      ],
      "metadata": {
        "colab": {
          "base_uri": "https://localhost:8080/"
        },
        "id": "LgdJdyGQgVIA",
        "outputId": "aa7ce4e4-b85c-45ed-a1e6-4d1b0608057b"
      },
      "execution_count": 160,
      "outputs": [
        {
          "output_type": "stream",
          "name": "stdout",
          "text": [
            "Number of rules:  10 \n",
            "\n",
            "{'handphone'} -> {'laptop'} <confidence: 0.625>\n",
            "{'laptop'} -> {'handphone'} <confidence: 0.8333333333333334>\n",
            "{'handphone'} -> {'charger'} <confidence: 0.625>\n",
            "{'charger'} -> {'handphone'} <confidence: 0.8333333333333334>\n",
            "{'tablet'} -> {'handphone'} <confidence: 0.7499999999999999>\n",
            "{'charger'} -> {'laptop'} <confidence: 0.6666666666666667>\n",
            "{'laptop'} -> {'charger'} <confidence: 0.6666666666666667>\n",
            "{'handphone', 'charger'} -> {'laptop'} <confidence: 0.6>\n",
            "{'handphone', 'laptop'} -> {'charger'} <confidence: 0.6>\n",
            "{'laptop', 'charger'} -> {'handphone'} <confidence: 0.7499999999999999>\n"
          ]
        }
      ]
    }
  ]
}